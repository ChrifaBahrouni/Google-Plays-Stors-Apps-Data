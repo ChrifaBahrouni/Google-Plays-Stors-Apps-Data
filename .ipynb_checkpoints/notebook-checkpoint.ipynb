{
 "cells": [
  {
   "cell_type": "code",
   "execution_count": 22,
   "id": "b77d9746",
   "metadata": {
    "slideshow": {
     "slide_type": "skip"
    }
   },
   "outputs": [
    {
     "data": {
      "text/html": [
       "    \n",
       "<!-- reveal.js CSS theme and local overrides -->\n",
       "<link rel=\"stylesheet\" href=\"https://fonts.googleapis.com/css?family=Open+Sans:300,400,600,700&amp;lang=en\"/>\n",
       "<link rel=\"stylesheet\" href=\"https://fonts.googleapis.com/css?family=Merriweather:italic&amp;lang=en\"/>\n",
       "<link rel=\"stylesheet\" href=\"mycss.css\"/>  \n"
      ],
      "text/plain": [
       "<IPython.core.display.HTML object>"
      ]
     },
     "metadata": {},
     "output_type": "display_data"
    }
   ],
   "source": [
    "%%HTML\n",
    "    \n",
    "<!-- reveal.js CSS theme and local overrides -->\n",
    "<link rel=\"stylesheet\" href=\"https://fonts.googleapis.com/css?family=Open+Sans:300,400,600,700&amp;lang=en\"/>\n",
    "<link rel=\"stylesheet\" href=\"https://fonts.googleapis.com/css?family=Merriweather:italic&amp;lang=en\"/>\n",
    "<link rel=\"stylesheet\" href=\"mycss.css\"/>  \n"
   ]
  },
  {
   "cell_type": "code",
   "execution_count": 23,
   "id": "d5d9f21c",
   "metadata": {
    "slideshow": {
     "slide_type": "skip"
    }
   },
   "outputs": [],
   "source": [
    "\n",
    "from datetime import date\n",
    "from IPython.display import HTML\n",
    "# Set information:\n",
    "event = 'ENI Carthage'\n",
    "title = 'Capstone Project'\n",
    "subtitle = 'Msc'\n",
    "today = date.today().strftime('%d-%m-%Y')\n",
    "\n",
    "# presenter information:\n",
    "name = 'MPSDM'\n",
    "email = 'chrifa.bahrouni123@gmail.com'\n",
    "twitter = '@twitter'\n",
    "url = 'https://github.com/ChrifaBahrouni'"
   ]
  },
  {
   "cell_type": "code",
   "execution_count": 24,
   "id": "1f368294",
   "metadata": {
    "slideshow": {
     "slide_type": "skip"
    }
   },
   "outputs": [
    {
     "data": {
      "text/html": [
       "<button style=\"margin:0 auto; display: block;\" onclick=\"jQuery('.code_cell .input_area').toggle();\n",
       "    jQuery('.prompt').toggle();\">Toggle code</button>"
      ],
      "text/plain": [
       "<IPython.core.display.HTML object>"
      ]
     },
     "execution_count": 24,
     "metadata": {},
     "output_type": "execute_result"
    }
   ],
   "source": [
    "# set HTMLs\n",
    "email_html = HTML(f\"<a href='mailto:{email}'>{email}</a>\")\n",
    "twitter_html = HTML(f\"<a href='https://twitter.com/{twitter.split('@')[-1]}'>{twitter}</a>\")\n",
    "url_html = HTML(f\"<a href='{url}'>{url}</a>\")\n",
    "footer_html = HTML(f\"<div class='footer'>{event} | {title} | {today}</div>\")\n",
    "\n",
    "# This line will add a button to toggle visibility of code blocks,\n",
    "# for use with the HTML export version\n",
    "toggle = HTML('''<button style=\"margin:0 auto; display: block;\" onclick=\"jQuery('.code_cell .input_area').toggle();\n",
    "    jQuery('.prompt').toggle();\">Toggle code</button>''')\n",
    "toggle"
   ]
  },
  {
   "cell_type": "markdown",
   "id": "6e72f0e2",
   "metadata": {
    "slideshow": {
     "slide_type": "slide"
    }
   },
   "source": [
    "<section id=\"title-slide\">\n",
    "<table class=\"kms\" border=\"0\"  width=\"100%\"  style=\"width:100%;text-align:center;\">\n",
    "  <tr>\n",
    "    <td width=\"99%\" align=\"center\" ><p class=\"fragment fade-down\" data-fragment-index=\"3\"><img src=\"images/images.png\" width=\"350\" height=\"350\" style=\"border-radius: 10px\"></p></td>\n",
    "    <td width=\"99%\" align=\"center\"><p class=\"fragment fade-up\" data-fragment-index=\"3\"><img src=\"images/ibm.jpg\" width=\"350\" height=\"350\" style=\"border-radius: 10px\"></p></td> \n",
    "    <td width=\"99%\" align=\"center\"><p class=\"fragment fade-down\" data-fragment-index=\"3\"><img src=\"images/uvt.jpg\" width=\"350\" height=\"350\" style=\"border-radius: 10px\"></p></td>\n",
    "  </tr>\n",
    "</table>\n",
    "    <br><h1><i><p class=\"fragment\" data-fragment-index=\"1\">Google Play Store apps and reviews</p></i></h1>\n",
    "    <h4><i><p class=\"fragment\" data-fragment-index=\"1\">cycle ingenierie en genié logiciel : Analyse de données </p></i></h4>\n",
    "    <br><br><br><br><br><br>\n",
    "   <div class=\"uu_title_container\">\n",
    "        <smaller>\n",
    "        <div class='column'><p class=\"fragment\" data-fragment-index=\"2\">\n",
    "            <b>Presented by:</b><br>Chrifa Bahrouni \n",
    "            </p></div>  \n",
    "           <div class='column'></div> \n",
    "       </smaller>\n",
    "    </div>\n",
    "</section>"
   ]
  },
  {
   "cell_type": "markdown",
   "id": "0f99e9c8",
   "metadata": {
    "slideshow": {
     "slide_type": "slide"
    }
   },
   "source": [
    "## 1. Google Play Store apps and reviews\n",
    "<p>Mobile apps are everywhere. They are easy to create and can be lucrative. Because of these two factors, more and more apps are being developed. In this notebook, we will do a comprehensive analysis of the Android app market by comparing over ten thousand apps in Google Play across different categories. We'll look for insights in the data to devise strategies to drive growth and retention.</p>\n",
    "<p><img class=\"logo\" src=\"https://assets.datacamp.com/production/project_619/img/google_play_store.png\" alt=\"Google Play logo\"></p>\n",
    "\n",
    "\n"
   ]
  },
  {
   "cell_type": "markdown",
   "id": "f0551760",
   "metadata": {
    "slideshow": {
     "slide_type": "subslide"
    }
   },
   "source": [
    "<p>Let's take a look at the data, which consists of two files:</p>\n",
    "<ul>\n",
    "<li><code>apps.csv</code>: contains all the details of the applications on Google Play. There are 13 features that describe a given app.</li>\n",
    "<li><code>user_reviews.csv</code>: contains 100 reviews for each app, <a href=\"https://www.androidpolice.com/2019/01/21/google-play-stores-redesigned-ratings-and-reviews-section-lets-you-easily-filter-by-star-rating/\">most helpful first</a>. The text in each review has been pre-processed and attributed with three new features: Sentiment (Positive, Negative or Neutral), Sentiment Polarity and Sentiment Subjectivity.</li>\n",
    "</ul>"
   ]
  },
  {
   "cell_type": "markdown",
   "id": "438afd4b",
   "metadata": {
    "slideshow": {
     "slide_type": "skip"
    }
   },
   "source": [
    "## Google Play Store Apps Data\n",
    "This dataset consists of web scraped data of more than 10,000 Google Play Store apps and 60,000 app reviews. `apps_data.csv` consists of data about the apps such as category, number of installs, and price. `review_data.csv` holds reviews of the apps, including the text of the review and sentiment scores. You can join the two tables on the `App` column.\n",
    "\n",
    "Not sure where to begin? Scroll to the bottom to find challenges!"
   ]
  },
  {
   "cell_type": "markdown",
   "id": "cb7e7c57",
   "metadata": {
    "slideshow": {
     "slide_type": "slide"
    }
   },
   "source": [
    "Import the following libraries by adding the following command in your Jupyter Notebook and run the cell. "
   ]
  },
  {
   "cell_type": "code",
   "execution_count": 25,
   "id": "9e7ae3fc",
   "metadata": {
    "slideshow": {
     "slide_type": "subslide"
    }
   },
   "outputs": [],
   "source": [
    "import pandas as pd\n",
    "import numpy as np\n",
    "import matplotlib.pyplot as plt\n",
    "%matplotlib inline"
   ]
  },
  {
   "cell_type": "markdown",
   "id": "7d4d0411",
   "metadata": {
    "slideshow": {
     "slide_type": "subslide"
    }
   },
   "source": [
    "Next, we create a new DataFrame by importing the CSV file:"
   ]
  },
  {
   "cell_type": "code",
   "execution_count": 26,
   "id": "pending-accident",
   "metadata": {
    "slideshow": {
     "slide_type": "subslide"
    }
   },
   "outputs": [],
   "source": [
    "df_apps= pd.read_csv(\"datasets/apps.csv\", header=0) \n"
   ]
  },
  {
   "cell_type": "code",
   "execution_count": 27,
   "id": "dying-vietnam",
   "metadata": {
    "scrolled": true,
    "slideshow": {
     "slide_type": "subslide"
    }
   },
   "outputs": [],
   "source": [
    "df_review =pd.read_csv('datasets/user_reviews.csv')"
   ]
  },
  {
   "cell_type": "code",
   "execution_count": 3,
   "id": "c714884c",
   "metadata": {
    "slideshow": {
     "slide_type": "slide"
    }
   },
   "outputs": [
    {
     "ename": "NameError",
     "evalue": "name 'df_apps' is not defined",
     "output_type": "error",
     "traceback": [
      "\u001b[1;31m---------------------------------------------------------------------------\u001b[0m",
      "\u001b[1;31mNameError\u001b[0m                                 Traceback (most recent call last)",
      "Input \u001b[1;32mIn [3]\u001b[0m, in \u001b[0;36m<cell line: 1>\u001b[1;34m()\u001b[0m\n\u001b[1;32m----> 1\u001b[0m \u001b[43mdf_apps\u001b[49m\u001b[38;5;241m.\u001b[39mhead(\u001b[38;5;241m10\u001b[39m)\n",
      "\u001b[1;31mNameError\u001b[0m: name 'df_apps' is not defined"
     ]
    }
   ],
   "source": [
    "df_apps.head(10)"
   ]
  },
  {
   "cell_type": "code",
   "execution_count": 29,
   "id": "c64c9aeb",
   "metadata": {
    "slideshow": {
     "slide_type": "subslide"
    }
   },
   "outputs": [
    {
     "data": {
      "text/html": [
       "<div>\n",
       "<style scoped>\n",
       "    .dataframe tbody tr th:only-of-type {\n",
       "        vertical-align: middle;\n",
       "    }\n",
       "\n",
       "    .dataframe tbody tr th {\n",
       "        vertical-align: top;\n",
       "    }\n",
       "\n",
       "    .dataframe thead th {\n",
       "        text-align: right;\n",
       "    }\n",
       "</style>\n",
       "<table border=\"1\" class=\"dataframe\">\n",
       "  <thead>\n",
       "    <tr style=\"text-align: right;\">\n",
       "      <th></th>\n",
       "      <th>Unnamed: 0</th>\n",
       "      <th>App</th>\n",
       "      <th>Category</th>\n",
       "      <th>Rating</th>\n",
       "      <th>Reviews</th>\n",
       "      <th>Size</th>\n",
       "      <th>Installs</th>\n",
       "      <th>Type</th>\n",
       "      <th>Price</th>\n",
       "      <th>Content Rating</th>\n",
       "      <th>Genres</th>\n",
       "      <th>Last Updated</th>\n",
       "      <th>Current Ver</th>\n",
       "      <th>Android Ver</th>\n",
       "    </tr>\n",
       "  </thead>\n",
       "  <tbody>\n",
       "    <tr>\n",
       "      <th>9646</th>\n",
       "      <td>10828</td>\n",
       "      <td>Manga-FR - Anime Vostfr</td>\n",
       "      <td>COMICS</td>\n",
       "      <td>3.4</td>\n",
       "      <td>291</td>\n",
       "      <td>13.0</td>\n",
       "      <td>10,000+</td>\n",
       "      <td>Free</td>\n",
       "      <td>0</td>\n",
       "      <td>Everyone</td>\n",
       "      <td>Comics</td>\n",
       "      <td>May 15, 2017</td>\n",
       "      <td>2.0.1</td>\n",
       "      <td>4.0 and up</td>\n",
       "    </tr>\n",
       "    <tr>\n",
       "      <th>9647</th>\n",
       "      <td>10829</td>\n",
       "      <td>Bulgarian French Dictionary Fr</td>\n",
       "      <td>BOOKS_AND_REFERENCE</td>\n",
       "      <td>4.6</td>\n",
       "      <td>603</td>\n",
       "      <td>7.4</td>\n",
       "      <td>10,000+</td>\n",
       "      <td>Free</td>\n",
       "      <td>0</td>\n",
       "      <td>Everyone</td>\n",
       "      <td>Books &amp; Reference</td>\n",
       "      <td>June 19, 2016</td>\n",
       "      <td>2.96</td>\n",
       "      <td>4.1 and up</td>\n",
       "    </tr>\n",
       "    <tr>\n",
       "      <th>9648</th>\n",
       "      <td>10830</td>\n",
       "      <td>News Minecraft.fr</td>\n",
       "      <td>NEWS_AND_MAGAZINES</td>\n",
       "      <td>3.8</td>\n",
       "      <td>881</td>\n",
       "      <td>2.3</td>\n",
       "      <td>100,000+</td>\n",
       "      <td>Free</td>\n",
       "      <td>0</td>\n",
       "      <td>Everyone</td>\n",
       "      <td>News &amp; Magazines</td>\n",
       "      <td>January 20, 2014</td>\n",
       "      <td>1.5</td>\n",
       "      <td>1.6 and up</td>\n",
       "    </tr>\n",
       "    <tr>\n",
       "      <th>9649</th>\n",
       "      <td>10831</td>\n",
       "      <td>payermonstationnement.fr</td>\n",
       "      <td>MAPS_AND_NAVIGATION</td>\n",
       "      <td>NaN</td>\n",
       "      <td>38</td>\n",
       "      <td>9.8</td>\n",
       "      <td>5,000+</td>\n",
       "      <td>Free</td>\n",
       "      <td>0</td>\n",
       "      <td>Everyone</td>\n",
       "      <td>Maps &amp; Navigation</td>\n",
       "      <td>June 13, 2018</td>\n",
       "      <td>2.0.148.0</td>\n",
       "      <td>4.0 and up</td>\n",
       "    </tr>\n",
       "    <tr>\n",
       "      <th>9650</th>\n",
       "      <td>10832</td>\n",
       "      <td>FR Tides</td>\n",
       "      <td>WEATHER</td>\n",
       "      <td>3.8</td>\n",
       "      <td>1195</td>\n",
       "      <td>0.6</td>\n",
       "      <td>100,000+</td>\n",
       "      <td>Free</td>\n",
       "      <td>0</td>\n",
       "      <td>Everyone</td>\n",
       "      <td>Weather</td>\n",
       "      <td>February 16, 2014</td>\n",
       "      <td>6</td>\n",
       "      <td>2.1 and up</td>\n",
       "    </tr>\n",
       "    <tr>\n",
       "      <th>9651</th>\n",
       "      <td>10833</td>\n",
       "      <td>Chemin (fr)</td>\n",
       "      <td>BOOKS_AND_REFERENCE</td>\n",
       "      <td>4.8</td>\n",
       "      <td>44</td>\n",
       "      <td>0.6</td>\n",
       "      <td>1,000+</td>\n",
       "      <td>Free</td>\n",
       "      <td>0</td>\n",
       "      <td>Everyone</td>\n",
       "      <td>Books &amp; Reference</td>\n",
       "      <td>March 23, 2014</td>\n",
       "      <td>0.8</td>\n",
       "      <td>2.2 and up</td>\n",
       "    </tr>\n",
       "    <tr>\n",
       "      <th>9652</th>\n",
       "      <td>10834</td>\n",
       "      <td>FR Calculator</td>\n",
       "      <td>FAMILY</td>\n",
       "      <td>4.0</td>\n",
       "      <td>7</td>\n",
       "      <td>2.6</td>\n",
       "      <td>500+</td>\n",
       "      <td>Free</td>\n",
       "      <td>0</td>\n",
       "      <td>Everyone</td>\n",
       "      <td>Education</td>\n",
       "      <td>June 18, 2017</td>\n",
       "      <td>1.0.0</td>\n",
       "      <td>4.1 and up</td>\n",
       "    </tr>\n",
       "    <tr>\n",
       "      <th>9653</th>\n",
       "      <td>10835</td>\n",
       "      <td>FR Forms</td>\n",
       "      <td>BUSINESS</td>\n",
       "      <td>NaN</td>\n",
       "      <td>0</td>\n",
       "      <td>9.6</td>\n",
       "      <td>10+</td>\n",
       "      <td>Free</td>\n",
       "      <td>0</td>\n",
       "      <td>Everyone</td>\n",
       "      <td>Business</td>\n",
       "      <td>September 29, 2016</td>\n",
       "      <td>1.1.5</td>\n",
       "      <td>4.0 and up</td>\n",
       "    </tr>\n",
       "    <tr>\n",
       "      <th>9654</th>\n",
       "      <td>10836</td>\n",
       "      <td>Sya9a Maroc - FR</td>\n",
       "      <td>FAMILY</td>\n",
       "      <td>4.5</td>\n",
       "      <td>38</td>\n",
       "      <td>53.0</td>\n",
       "      <td>5,000+</td>\n",
       "      <td>Free</td>\n",
       "      <td>0</td>\n",
       "      <td>Everyone</td>\n",
       "      <td>Education</td>\n",
       "      <td>July 25, 2017</td>\n",
       "      <td>1.48</td>\n",
       "      <td>4.1 and up</td>\n",
       "    </tr>\n",
       "    <tr>\n",
       "      <th>9655</th>\n",
       "      <td>10837</td>\n",
       "      <td>Fr. Mike Schmitz Audio Teachings</td>\n",
       "      <td>FAMILY</td>\n",
       "      <td>5.0</td>\n",
       "      <td>4</td>\n",
       "      <td>3.6</td>\n",
       "      <td>100+</td>\n",
       "      <td>Free</td>\n",
       "      <td>0</td>\n",
       "      <td>Everyone</td>\n",
       "      <td>Education</td>\n",
       "      <td>July 6, 2018</td>\n",
       "      <td>1</td>\n",
       "      <td>4.1 and up</td>\n",
       "    </tr>\n",
       "    <tr>\n",
       "      <th>9656</th>\n",
       "      <td>10838</td>\n",
       "      <td>Parkinson Exercices FR</td>\n",
       "      <td>MEDICAL</td>\n",
       "      <td>NaN</td>\n",
       "      <td>3</td>\n",
       "      <td>9.5</td>\n",
       "      <td>1,000+</td>\n",
       "      <td>Free</td>\n",
       "      <td>0</td>\n",
       "      <td>Everyone</td>\n",
       "      <td>Medical</td>\n",
       "      <td>January 20, 2017</td>\n",
       "      <td>1</td>\n",
       "      <td>2.2 and up</td>\n",
       "    </tr>\n",
       "    <tr>\n",
       "      <th>9657</th>\n",
       "      <td>10839</td>\n",
       "      <td>The SCP Foundation DB fr nn5n</td>\n",
       "      <td>BOOKS_AND_REFERENCE</td>\n",
       "      <td>4.5</td>\n",
       "      <td>114</td>\n",
       "      <td>NaN</td>\n",
       "      <td>1,000+</td>\n",
       "      <td>Free</td>\n",
       "      <td>0</td>\n",
       "      <td>Mature 17+</td>\n",
       "      <td>Books &amp; Reference</td>\n",
       "      <td>January 19, 2015</td>\n",
       "      <td>Varies with device</td>\n",
       "      <td>Varies with device</td>\n",
       "    </tr>\n",
       "    <tr>\n",
       "      <th>9658</th>\n",
       "      <td>10840</td>\n",
       "      <td>iHoroscope - 2018 Daily Horoscope &amp; Astrology</td>\n",
       "      <td>LIFESTYLE</td>\n",
       "      <td>4.5</td>\n",
       "      <td>398307</td>\n",
       "      <td>19.0</td>\n",
       "      <td>10,000,000+</td>\n",
       "      <td>Free</td>\n",
       "      <td>0</td>\n",
       "      <td>Everyone</td>\n",
       "      <td>Lifestyle</td>\n",
       "      <td>July 25, 2018</td>\n",
       "      <td>Varies with device</td>\n",
       "      <td>Varies with device</td>\n",
       "    </tr>\n",
       "  </tbody>\n",
       "</table>\n",
       "</div>"
      ],
      "text/plain": [
       "      Unnamed: 0                                            App  \\\n",
       "9646       10828                        Manga-FR - Anime Vostfr   \n",
       "9647       10829                 Bulgarian French Dictionary Fr   \n",
       "9648       10830                              News Minecraft.fr   \n",
       "9649       10831                       payermonstationnement.fr   \n",
       "9650       10832                                       FR Tides   \n",
       "9651       10833                                    Chemin (fr)   \n",
       "9652       10834                                  FR Calculator   \n",
       "9653       10835                                       FR Forms   \n",
       "9654       10836                               Sya9a Maroc - FR   \n",
       "9655       10837               Fr. Mike Schmitz Audio Teachings   \n",
       "9656       10838                         Parkinson Exercices FR   \n",
       "9657       10839                  The SCP Foundation DB fr nn5n   \n",
       "9658       10840  iHoroscope - 2018 Daily Horoscope & Astrology   \n",
       "\n",
       "                 Category  Rating  Reviews  Size     Installs  Type Price  \\\n",
       "9646               COMICS     3.4      291  13.0      10,000+  Free     0   \n",
       "9647  BOOKS_AND_REFERENCE     4.6      603   7.4      10,000+  Free     0   \n",
       "9648   NEWS_AND_MAGAZINES     3.8      881   2.3     100,000+  Free     0   \n",
       "9649  MAPS_AND_NAVIGATION     NaN       38   9.8       5,000+  Free     0   \n",
       "9650              WEATHER     3.8     1195   0.6     100,000+  Free     0   \n",
       "9651  BOOKS_AND_REFERENCE     4.8       44   0.6       1,000+  Free     0   \n",
       "9652               FAMILY     4.0        7   2.6         500+  Free     0   \n",
       "9653             BUSINESS     NaN        0   9.6          10+  Free     0   \n",
       "9654               FAMILY     4.5       38  53.0       5,000+  Free     0   \n",
       "9655               FAMILY     5.0        4   3.6         100+  Free     0   \n",
       "9656              MEDICAL     NaN        3   9.5       1,000+  Free     0   \n",
       "9657  BOOKS_AND_REFERENCE     4.5      114   NaN       1,000+  Free     0   \n",
       "9658            LIFESTYLE     4.5   398307  19.0  10,000,000+  Free     0   \n",
       "\n",
       "     Content Rating             Genres        Last Updated  \\\n",
       "9646       Everyone             Comics        May 15, 2017   \n",
       "9647       Everyone  Books & Reference       June 19, 2016   \n",
       "9648       Everyone   News & Magazines    January 20, 2014   \n",
       "9649       Everyone  Maps & Navigation       June 13, 2018   \n",
       "9650       Everyone            Weather   February 16, 2014   \n",
       "9651       Everyone  Books & Reference      March 23, 2014   \n",
       "9652       Everyone          Education       June 18, 2017   \n",
       "9653       Everyone           Business  September 29, 2016   \n",
       "9654       Everyone          Education       July 25, 2017   \n",
       "9655       Everyone          Education        July 6, 2018   \n",
       "9656       Everyone            Medical    January 20, 2017   \n",
       "9657     Mature 17+  Books & Reference    January 19, 2015   \n",
       "9658       Everyone          Lifestyle       July 25, 2018   \n",
       "\n",
       "             Current Ver         Android Ver  \n",
       "9646               2.0.1          4.0 and up  \n",
       "9647                2.96          4.1 and up  \n",
       "9648                 1.5          1.6 and up  \n",
       "9649           2.0.148.0          4.0 and up  \n",
       "9650                   6          2.1 and up  \n",
       "9651                 0.8          2.2 and up  \n",
       "9652               1.0.0          4.1 and up  \n",
       "9653               1.1.5          4.0 and up  \n",
       "9654                1.48          4.1 and up  \n",
       "9655                   1          4.1 and up  \n",
       "9656                   1          2.2 and up  \n",
       "9657  Varies with device  Varies with device  \n",
       "9658  Varies with device  Varies with device  "
      ]
     },
     "execution_count": 29,
     "metadata": {},
     "output_type": "execute_result"
    }
   ],
   "source": [
    "df_apps.tail(13)"
   ]
  },
  {
   "cell_type": "code",
   "execution_count": 30,
   "id": "1b28103b",
   "metadata": {
    "slideshow": {
     "slide_type": "slide"
    }
   },
   "outputs": [
    {
     "name": "stdout",
     "output_type": "stream",
     "text": [
      "(9659, 14)\n",
      "(64295, 5)\n"
     ]
    }
   ],
   "source": [
    "print(df_apps.shape )\n",
    "print(df_review.shape)"
   ]
  },
  {
   "cell_type": "code",
   "execution_count": 31,
   "id": "5351d0d2",
   "metadata": {
    "slideshow": {
     "slide_type": "subslide"
    }
   },
   "outputs": [
    {
     "name": "stdout",
     "output_type": "stream",
     "text": [
      "<class 'pandas.core.frame.DataFrame'>\n",
      "RangeIndex: 9659 entries, 0 to 9658\n",
      "Data columns (total 14 columns):\n",
      " #   Column          Non-Null Count  Dtype  \n",
      "---  ------          --------------  -----  \n",
      " 0   Unnamed: 0      9659 non-null   int64  \n",
      " 1   App             9659 non-null   object \n",
      " 2   Category        9659 non-null   object \n",
      " 3   Rating          8196 non-null   float64\n",
      " 4   Reviews         9659 non-null   int64  \n",
      " 5   Size            8432 non-null   float64\n",
      " 6   Installs        9659 non-null   object \n",
      " 7   Type            9659 non-null   object \n",
      " 8   Price           9659 non-null   object \n",
      " 9   Content Rating  9659 non-null   object \n",
      " 10  Genres          9659 non-null   object \n",
      " 11  Last Updated    9659 non-null   object \n",
      " 12  Current Ver     9651 non-null   object \n",
      " 13  Android Ver     9657 non-null   object \n",
      "dtypes: float64(2), int64(2), object(10)\n",
      "memory usage: 1.0+ MB\n"
     ]
    }
   ],
   "source": [
    "df_apps.info()"
   ]
  },
  {
   "cell_type": "markdown",
   "id": "eca37e64",
   "metadata": {
    "slideshow": {
     "slide_type": "slide"
    }
   },
   "source": [
    "## 2. Data cleaning\n",
    "<p>Data cleaning is one of the most essential subtask any data science project. Although it can be a very tedious process, it's worth should never be undermined.</p>\n",
    "<p>By looking at a random sample of the dataset rows (from the above task), we observe that some entries in the columns like <code>Installs</code> and <code>Price</code> have a few special characters (<code>+</code> <code>,</code> <code>$</code>) due to the way the numbers have been represented. This prevents the columns from being purely numeric, making it difficult to use them in subsequent future mathematical calculations. Ideally, as their names suggest, we would want these columns to contain only digits from [0-9].</p>\n",
    "<p>Hence, we now proceed to clean our data. Specifically, the special characters <code>,</code> and <code>+</code> present in <code>Installs</code> column and <code>$</code> present in <code>Price</code> column need to be removed.</p>\n",
    "<p>It is also always a good practice to print a summary of your dataframe after completing data cleaning. We will use the <code>info()</code> method to acheive this.</p>"
   ]
  },
  {
   "cell_type": "code",
   "execution_count": 32,
   "id": "baa3deed",
   "metadata": {},
   "outputs": [
    {
     "name": "stdout",
     "output_type": "stream",
     "text": [
      "<class 'pandas.core.frame.DataFrame'>\n",
      "RangeIndex: 9659 entries, 0 to 9658\n",
      "Data columns (total 14 columns):\n",
      " #   Column          Non-Null Count  Dtype  \n",
      "---  ------          --------------  -----  \n",
      " 0   Unnamed: 0      9659 non-null   int64  \n",
      " 1   App             9659 non-null   object \n",
      " 2   Category        9659 non-null   object \n",
      " 3   Rating          8196 non-null   float64\n",
      " 4   Reviews         9659 non-null   int64  \n",
      " 5   Size            8432 non-null   float64\n",
      " 6   Installs        9659 non-null   object \n",
      " 7   Type            9659 non-null   object \n",
      " 8   Price           9659 non-null   object \n",
      " 9   Content Rating  9659 non-null   object \n",
      " 10  Genres          9659 non-null   object \n",
      " 11  Last Updated    9659 non-null   object \n",
      " 12  Current Ver     9651 non-null   object \n",
      " 13  Android Ver     9657 non-null   object \n",
      "dtypes: float64(2), int64(2), object(10)\n",
      "memory usage: 1.0+ MB\n",
      "None\n"
     ]
    },
    {
     "data": {
      "text/html": [
       "<div>\n",
       "<style scoped>\n",
       "    .dataframe tbody tr th:only-of-type {\n",
       "        vertical-align: middle;\n",
       "    }\n",
       "\n",
       "    .dataframe tbody tr th {\n",
       "        vertical-align: top;\n",
       "    }\n",
       "\n",
       "    .dataframe thead th {\n",
       "        text-align: right;\n",
       "    }\n",
       "</style>\n",
       "<table border=\"1\" class=\"dataframe\">\n",
       "  <thead>\n",
       "    <tr style=\"text-align: right;\">\n",
       "      <th></th>\n",
       "      <th>Unnamed: 0</th>\n",
       "      <th>App</th>\n",
       "      <th>Category</th>\n",
       "      <th>Rating</th>\n",
       "      <th>Reviews</th>\n",
       "      <th>Size</th>\n",
       "      <th>Installs</th>\n",
       "      <th>Type</th>\n",
       "      <th>Price</th>\n",
       "      <th>Content Rating</th>\n",
       "      <th>Genres</th>\n",
       "      <th>Last Updated</th>\n",
       "      <th>Current Ver</th>\n",
       "      <th>Android Ver</th>\n",
       "    </tr>\n",
       "  </thead>\n",
       "  <tbody>\n",
       "    <tr>\n",
       "      <th>0</th>\n",
       "      <td>0</td>\n",
       "      <td>Photo Editor &amp; Candy Camera &amp; Grid &amp; ScrapBook</td>\n",
       "      <td>ART_AND_DESIGN</td>\n",
       "      <td>4.1</td>\n",
       "      <td>159</td>\n",
       "      <td>19.0</td>\n",
       "      <td>10000</td>\n",
       "      <td>Free</td>\n",
       "      <td>0</td>\n",
       "      <td>Everyone</td>\n",
       "      <td>Art &amp; Design</td>\n",
       "      <td>January 7, 2018</td>\n",
       "      <td>1.0.0</td>\n",
       "      <td>4.0.3 and up</td>\n",
       "    </tr>\n",
       "    <tr>\n",
       "      <th>1</th>\n",
       "      <td>1</td>\n",
       "      <td>Coloring book moana</td>\n",
       "      <td>ART_AND_DESIGN</td>\n",
       "      <td>3.9</td>\n",
       "      <td>967</td>\n",
       "      <td>14.0</td>\n",
       "      <td>500000</td>\n",
       "      <td>Free</td>\n",
       "      <td>0</td>\n",
       "      <td>Everyone</td>\n",
       "      <td>Art &amp; Design;Pretend Play</td>\n",
       "      <td>January 15, 2018</td>\n",
       "      <td>2.0.0</td>\n",
       "      <td>4.0.3 and up</td>\n",
       "    </tr>\n",
       "    <tr>\n",
       "      <th>2</th>\n",
       "      <td>2</td>\n",
       "      <td>U Launcher Lite – FREE Live Cool Themes, Hide ...</td>\n",
       "      <td>ART_AND_DESIGN</td>\n",
       "      <td>4.7</td>\n",
       "      <td>87510</td>\n",
       "      <td>8.7</td>\n",
       "      <td>5000000</td>\n",
       "      <td>Free</td>\n",
       "      <td>0</td>\n",
       "      <td>Everyone</td>\n",
       "      <td>Art &amp; Design</td>\n",
       "      <td>August 1, 2018</td>\n",
       "      <td>1.2.4</td>\n",
       "      <td>4.0.3 and up</td>\n",
       "    </tr>\n",
       "  </tbody>\n",
       "</table>\n",
       "</div>"
      ],
      "text/plain": [
       "   Unnamed: 0                                                App  \\\n",
       "0           0     Photo Editor & Candy Camera & Grid & ScrapBook   \n",
       "1           1                                Coloring book moana   \n",
       "2           2  U Launcher Lite – FREE Live Cool Themes, Hide ...   \n",
       "\n",
       "         Category  Rating  Reviews  Size Installs  Type Price Content Rating  \\\n",
       "0  ART_AND_DESIGN     4.1      159  19.0    10000  Free     0       Everyone   \n",
       "1  ART_AND_DESIGN     3.9      967  14.0   500000  Free     0       Everyone   \n",
       "2  ART_AND_DESIGN     4.7    87510   8.7  5000000  Free     0       Everyone   \n",
       "\n",
       "                      Genres      Last Updated Current Ver   Android Ver  \n",
       "0               Art & Design   January 7, 2018       1.0.0  4.0.3 and up  \n",
       "1  Art & Design;Pretend Play  January 15, 2018       2.0.0  4.0.3 and up  \n",
       "2               Art & Design    August 1, 2018       1.2.4  4.0.3 and up  "
      ]
     },
     "execution_count": 32,
     "metadata": {},
     "output_type": "execute_result"
    }
   ],
   "source": [
    "\n",
    "# # List of characters to remove\n",
    "chars_to_remove = [\"+\",\",\",\"$\"]\n",
    "# List of column names to clean\n",
    "cols_to_clean = ['Installs','Price']\n",
    "\n",
    "# Loop for each column in cols_to_clean\n",
    "for col in cols_to_clean:\n",
    "    # Loop for each char in chars_to_remove\n",
    "    for char in chars_to_remove:\n",
    "        # Replace the character with an empty string\n",
    "        df_apps[col] = df_apps[col].apply(lambda x: x.replace(char,''))\n",
    "        \n",
    "# Print a summary of the apps dataframe\n",
    "print(df_apps.info())\n",
    "df_apps.head(3)\n"
   ]
  },
  {
   "cell_type": "markdown",
   "id": "40a6aee7",
   "metadata": {},
   "source": [
    "## 3. Correcting data types\n",
    "<p>From the previous task we noticed that <code>Installs</code> and <code>Price</code> were categorized as <code>object</code> data type (and not <code>int</code> or <code>float</code>) as we would like. This is because these two columns originally had mixed input types: digits and special characters. To know more about Pandas data types, read <a href=\"https://datacarpentry.org/python-ecology-lesson/04-data-types-and-format/\">this</a>.</p>\n",
    "<p>The four features that we will be working with most frequently henceforth are <code>Installs</code>, <code>Size</code>, <code>Rating</code> and <code>Price</code>. While <code>Size</code> and <code>Rating</code> are both <code>float</code> (i.e. purely numerical data types), we still need to work on <code>Installs</code> and <code>Price</code> to make them numeric.</p>"
   ]
  },
  {
   "cell_type": "code",
   "execution_count": 33,
   "id": "f0434ffd",
   "metadata": {},
   "outputs": [
    {
     "name": "stdout",
     "output_type": "stream",
     "text": [
      "<class 'pandas.core.frame.DataFrame'>\n",
      "RangeIndex: 9659 entries, 0 to 9658\n",
      "Data columns (total 14 columns):\n",
      " #   Column          Non-Null Count  Dtype  \n",
      "---  ------          --------------  -----  \n",
      " 0   Unnamed: 0      9659 non-null   int64  \n",
      " 1   App             9659 non-null   object \n",
      " 2   Category        9659 non-null   object \n",
      " 3   Rating          8196 non-null   float64\n",
      " 4   Reviews         9659 non-null   int64  \n",
      " 5   Size            8432 non-null   float64\n",
      " 6   Installs        9659 non-null   float64\n",
      " 7   Type            9659 non-null   object \n",
      " 8   Price           9659 non-null   float64\n",
      " 9   Content Rating  9659 non-null   object \n",
      " 10  Genres          9659 non-null   object \n",
      " 11  Last Updated    9659 non-null   object \n",
      " 12  Current Ver     9651 non-null   object \n",
      " 13  Android Ver     9657 non-null   object \n",
      "dtypes: float64(4), int64(2), object(8)\n",
      "memory usage: 1.0+ MB\n",
      "None\n"
     ]
    }
   ],
   "source": [
    "import numpy as np\n",
    "\n",
    "# Convert Installs to float data type\n",
    "df_apps['Installs'] = df_apps['Installs'].astype('float')\n",
    "\n",
    "# Convert Price to float data type\n",
    "df_apps['Price'] = df_apps['Price'].astype('float')\n",
    "\n",
    "# Checking dtypes of the apps dataframe\n",
    "print(df_apps.info())"
   ]
  },
  {
   "cell_type": "markdown",
   "id": "8ec057d4",
   "metadata": {},
   "source": [
    "## 4. Exploring app categories\n",
    "<p>With more than 1 billion active users in 190 countries around the world, Google Play continues to be an important distribution platform to build a global audience. For businesses to get their apps in front of users, it's important to make them more quickly and easily discoverable on Google Play. To improve the overall search experience, Google has introduced the concept of grouping apps into categories.</p>\n",
    "<p>This brings us to the following questions:</p>\n",
    "<ul>\n",
    "<li>Which category has the highest share of (active) apps in the market? </li>\n",
    "<li>Is any specific category dominating the market?</li>\n",
    "<li>Which categories have the fewest number of apps?</li>\n",
    "</ul>\n",
    "<p>We will see that there are <code>33</code> unique app categories present in our dataset. <em>Family</em> and <em>Game</em> apps have the highest market prevalence. Interestingly, <em>Tools</em>, <em>Business</em> and <em>Medical</em> apps are also at the top.</p>"
   ]
  },
  {
   "cell_type": "code",
   "execution_count": 34,
   "id": "db29cd4d",
   "metadata": {},
   "outputs": [
    {
     "ename": "ModuleNotFoundError",
     "evalue": "No module named 'plotly'",
     "output_type": "error",
     "traceback": [
      "\u001b[1;31m---------------------------------------------------------------------------\u001b[0m",
      "\u001b[1;31mModuleNotFoundError\u001b[0m                       Traceback (most recent call last)",
      "\u001b[1;32mc:\\Users\\hp\\Desktop\\Google-Plays-Stors-Apps-Data\\notebook.ipynb Cellule 22\u001b[0m in \u001b[0;36m<cell line: 1>\u001b[1;34m()\u001b[0m\n\u001b[1;32m----> <a href='vscode-notebook-cell:/c%3A/Users/hp/Desktop/Google-Plays-Stors-Apps-Data/notebook.ipynb#Y135sZmlsZQ%3D%3D?line=0'>1</a>\u001b[0m \u001b[39mimport\u001b[39;00m \u001b[39mplotly\u001b[39;00m\n\u001b[0;32m      <a href='vscode-notebook-cell:/c%3A/Users/hp/Desktop/Google-Plays-Stors-Apps-Data/notebook.ipynb#Y135sZmlsZQ%3D%3D?line=1'>2</a>\u001b[0m plotly\u001b[39m.\u001b[39moffline\u001b[39m.\u001b[39minit_notebook_mode(connected\u001b[39m=\u001b[39m\u001b[39mTrue\u001b[39;00m)\n\u001b[0;32m      <a href='vscode-notebook-cell:/c%3A/Users/hp/Desktop/Google-Plays-Stors-Apps-Data/notebook.ipynb#Y135sZmlsZQ%3D%3D?line=2'>3</a>\u001b[0m \u001b[39mimport\u001b[39;00m \u001b[39mplotly\u001b[39;00m\u001b[39m.\u001b[39;00m\u001b[39mgraph_objs\u001b[39;00m \u001b[39mas\u001b[39;00m \u001b[39mgo\u001b[39;00m\n",
      "\u001b[1;31mModuleNotFoundError\u001b[0m: No module named 'plotly'"
     ]
    }
   ],
   "source": [
    "import plotly\n",
    "plotly.offline.init_notebook_mode(connected=True)\n",
    "import plotly.graph_objs as go\n",
    "\n",
    "# Print the total number of unique categories\n",
    "num_categories =len(df_apps['Category'].unique())\n",
    "print('Number of categories = ',num_categories)\n",
    "\n",
    "# Count the number of apps in each 'Category'. \n",
    "num_apps_in_category = df_apps['Category'].value_counts()\n",
    "\n",
    "# Sort num_apps_in_category in descending order based on the count of apps in each category\n",
    "sorted_num_apps_in_category = num_apps_in_category.sort_values(ascending=False)\n",
    "\n",
    "data = [go.Bar(\n",
    "        x = num_apps_in_category.index, # index = category name\n",
    "        y = num_apps_in_category.values, # value = count\n",
    ")]\n",
    "\n",
    "plotly.offline.iplot(data)"
   ]
  },
  {
   "cell_type": "markdown",
   "id": "fd7badd6",
   "metadata": {},
   "source": [
    "## 5. Distribution of app ratings\n",
    "<p>After having witnessed the market share for each category of apps, let's see how all these apps perform on an average. App ratings (on a scale of 1 to 5) impact the discoverability, conversion of apps as well as the company's overall brand image. Ratings are a key performance indicator of an app.</p>\n",
    "<p>From our research, we found that the average volume of ratings across all app categories is <code>4.17</code>. The histogram plot is skewed to the left indicating that the majority of the apps are highly rated with only a few exceptions in the low-rated apps.</p>"
   ]
  },
  {
   "cell_type": "code",
   "execution_count": null,
   "id": "a96effc4",
   "metadata": {},
   "outputs": [
    {
     "name": "stdout",
     "output_type": "stream",
     "text": [
      "Average app rating =  4.173243045387994\n"
     ]
    },
    {
     "ename": "NameError",
     "evalue": "name 'go' is not defined",
     "output_type": "error",
     "traceback": [
      "\u001b[1;31m---------------------------------------------------------------------------\u001b[0m",
      "\u001b[1;31mNameError\u001b[0m                                 Traceback (most recent call last)",
      "Input \u001b[1;32mIn [21]\u001b[0m, in \u001b[0;36m<cell line: 6>\u001b[1;34m()\u001b[0m\n\u001b[0;32m      3\u001b[0m \u001b[38;5;28mprint\u001b[39m(\u001b[38;5;124m'\u001b[39m\u001b[38;5;124mAverage app rating = \u001b[39m\u001b[38;5;124m'\u001b[39m, avg_app_rating)\n\u001b[0;32m      5\u001b[0m \u001b[38;5;66;03m# Distribution of apps according to their ratings\u001b[39;00m\n\u001b[1;32m----> 6\u001b[0m data \u001b[38;5;241m=\u001b[39m [\u001b[43mgo\u001b[49m\u001b[38;5;241m.\u001b[39mHistogram(\n\u001b[0;32m      7\u001b[0m         x \u001b[38;5;241m=\u001b[39m apps[\u001b[38;5;124m'\u001b[39m\u001b[38;5;124mRating\u001b[39m\u001b[38;5;124m'\u001b[39m]\n\u001b[0;32m      8\u001b[0m )]\n\u001b[0;32m     10\u001b[0m \u001b[38;5;66;03m# Vertical dashed line to indicate the average app rating\u001b[39;00m\n\u001b[0;32m     11\u001b[0m layout \u001b[38;5;241m=\u001b[39m {\u001b[38;5;124m'\u001b[39m\u001b[38;5;124mshapes\u001b[39m\u001b[38;5;124m'\u001b[39m: [{\n\u001b[0;32m     12\u001b[0m               \u001b[38;5;124m'\u001b[39m\u001b[38;5;124mtype\u001b[39m\u001b[38;5;124m'\u001b[39m :\u001b[38;5;124m'\u001b[39m\u001b[38;5;124mline\u001b[39m\u001b[38;5;124m'\u001b[39m,\n\u001b[0;32m     13\u001b[0m               \u001b[38;5;124m'\u001b[39m\u001b[38;5;124mx0\u001b[39m\u001b[38;5;124m'\u001b[39m: avg_app_rating,\n\u001b[1;32m   (...)\u001b[0m\n\u001b[0;32m     18\u001b[0m           }]\n\u001b[0;32m     19\u001b[0m           }\n",
      "\u001b[1;31mNameError\u001b[0m: name 'go' is not defined"
     ]
    }
   ],
   "source": [
    "# Average rating of apps\n",
    "avg_app_rating = df_apps['Rating'].mean()\n",
    "print('Average app rating = ', avg_app_rating)\n",
    "\n",
    "# Distribution of apps according to their ratings\n",
    "data = [go.Histogram(\n",
    "        x = df_apps['Rating']\n",
    ")]\n",
    "\n",
    "# Vertical dashed line to indicate the average app rating\n",
    "layout = {'shapes': [{\n",
    "              'type' :'line',\n",
    "              'x0': avg_app_rating,\n",
    "              'y0': 0,\n",
    "              'x1': avg_app_rating,\n",
    "              'y1': 1000,\n",
    "              'line': { 'dash': 'dashdot'}\n",
    "          }]\n",
    "          }\n",
    "\n",
    "plotly.offline.iplot({'data': data, 'layout': layout})"
   ]
  },
  {
   "cell_type": "markdown",
   "id": "a3b5ddfa",
   "metadata": {},
   "source": [
    "## 6. Size and price of an app\n",
    "<p>Let's now examine app size and app price. For size, if the mobile app is too large, it may be difficult and/or expensive for users to download. Lengthy download times could turn users off before they even experience your mobile app. Plus, each user's device has a finite amount of disk space. For price, some users expect their apps to be free or inexpensive. These problems compound if the developing world is part of your target market; especially due to internet speeds, earning power and exchange rates.</p>\n",
    "<p>How can we effectively come up with strategies to size and price our app?</p>\n",
    "<ul>\n",
    "<li>Does the size of an app affect its rating? </li>\n",
    "<li>Do users really care about system-heavy apps or do they prefer light-weighted apps? </li>\n",
    "<li>Does the price of an app affect its rating? </li>\n",
    "<li>Do users always prefer free apps over paid apps?</li>\n",
    "</ul>\n",
    "<p>We find that the majority of top rated apps (rating over 4) range from 2 MB to 20 MB. We also find that the vast majority of apps price themselves under \\$10.</p>"
   ]
  },
  {
   "cell_type": "code",
   "execution_count": null,
   "id": "8d8fd597",
   "metadata": {},
   "outputs": [
    {
     "data": {
      "image/png": "[encoded data removed]",
      "text/plain": [
       "<Figure size 600x600 with 3 Axes>"
      ]
     },
     "metadata": {},
     "output_type": "display_data"
    },
    {
     "data": {
      "image/png": "[encoded data removed]",
      "text/plain": [
       "<Figure size 600x600 with 3 Axes>"
      ]
     },
     "metadata": {},
     "output_type": "display_data"
    }
   ],
   "source": [
    "%matplotlib inline\n",
    "import seaborn as sns\n",
    "sns.set_style(\"darkgrid\")\n",
    "import warnings\n",
    "warnings.filterwarnings(\"ignore\")\n",
    "\n",
    "# Select rows where both 'Rating' and 'Size' values are present (ie. the two values are not null)\n",
    "apps_with_size_and_rating_present = df_apps[(~df_apps['Rating'].isnull()) &(~df_apps['Size'].isnull())]\n",
    "\n",
    "# Subset for categories with at least 250 apps\n",
    "large_categories = apps_with_size_and_rating_present.groupby(df_apps['Category']).filter(lambda x: len(x) >= 250)\n",
    "\n",
    "# Plot size vs. rating\n",
    "plt1 = sns.jointplot(x = large_categories['Size'], y = large_categories['Rating'])\n",
    "\n",
    "# Select apps whose 'Type' is 'Paid'\n",
    "paid_apps = apps_with_size_and_rating_present[apps_with_size_and_rating_present['Type']=='Paid']\n",
    "\n",
    "# Plot price vs. rating\n",
    "plt2 = sns.jointplot(x = paid_apps['Price'], y = paid_apps['Rating'])"
   ]
  },
  {
   "cell_type": "markdown",
   "id": "ab7cc97e",
   "metadata": {},
   "source": [
    "## 7. Relation between app category and app price\n",
    "<p>So now comes the hard part. How are companies and developers supposed to make ends meet? What monetization strategies can companies use to maximize profit? The costs of apps are largely based on features, complexity, and platform.</p>\n",
    "<p>There are many factors to consider when selecting the right pricing strategy for your mobile app. It is important to consider the willingness of your customer to pay for your app. A wrong price could break the deal before the download even happens. Potential customers could be turned off by what they perceive to be a shocking cost, or they might delete an app they’ve downloaded after receiving too many ads or simply not getting their money's worth.</p>\n",
    "<p>Different categories demand different price ranges. Some apps that are simple and used daily, like the calculator app, should probably be kept free. However, it would make sense to charge for a highly-specialized medical app that diagnoses diabetic patients. Below, we see that <em>Medical and Family</em> apps are the most expensive. Some medical apps extend even up to \\$80! All game apps are reasonably priced below \\$20.</p>"
   ]
  },
  {
   "cell_type": "code",
   "execution_count": 36,
   "id": "b97ca924",
   "metadata": {},
   "outputs": [
    {
     "data": {
      "text/html": [
       "<div>\n",
       "<style scoped>\n",
       "    .dataframe tbody tr th:only-of-type {\n",
       "        vertical-align: middle;\n",
       "    }\n",
       "\n",
       "    .dataframe tbody tr th {\n",
       "        vertical-align: top;\n",
       "    }\n",
       "\n",
       "    .dataframe thead th {\n",
       "        text-align: right;\n",
       "    }\n",
       "</style>\n",
       "<table border=\"1\" class=\"dataframe\">\n",
       "  <thead>\n",
       "    <tr style=\"text-align: right;\">\n",
       "      <th></th>\n",
       "      <th>Category</th>\n",
       "      <th>App</th>\n",
       "      <th>Price</th>\n",
       "    </tr>\n",
       "  </thead>\n",
       "  <tbody>\n",
       "    <tr>\n",
       "      <th>3327</th>\n",
       "      <td>FAMILY</td>\n",
       "      <td>most expensive app (H)</td>\n",
       "      <td>399.99</td>\n",
       "    </tr>\n",
       "    <tr>\n",
       "      <th>3465</th>\n",
       "      <td>LIFESTYLE</td>\n",
       "      <td>💎 I'm rich</td>\n",
       "      <td>399.99</td>\n",
       "    </tr>\n",
       "    <tr>\n",
       "      <th>3469</th>\n",
       "      <td>LIFESTYLE</td>\n",
       "      <td>I'm Rich - Trump Edition</td>\n",
       "      <td>400.00</td>\n",
       "    </tr>\n",
       "    <tr>\n",
       "      <th>4396</th>\n",
       "      <td>LIFESTYLE</td>\n",
       "      <td>I am rich</td>\n",
       "      <td>399.99</td>\n",
       "    </tr>\n",
       "    <tr>\n",
       "      <th>4398</th>\n",
       "      <td>FAMILY</td>\n",
       "      <td>I am Rich Plus</td>\n",
       "      <td>399.99</td>\n",
       "    </tr>\n",
       "    <tr>\n",
       "      <th>4399</th>\n",
       "      <td>LIFESTYLE</td>\n",
       "      <td>I am rich VIP</td>\n",
       "      <td>299.99</td>\n",
       "    </tr>\n",
       "    <tr>\n",
       "      <th>4400</th>\n",
       "      <td>FINANCE</td>\n",
       "      <td>I Am Rich Premium</td>\n",
       "      <td>399.99</td>\n",
       "    </tr>\n",
       "    <tr>\n",
       "      <th>4401</th>\n",
       "      <td>LIFESTYLE</td>\n",
       "      <td>I am extremely Rich</td>\n",
       "      <td>379.99</td>\n",
       "    </tr>\n",
       "    <tr>\n",
       "      <th>4402</th>\n",
       "      <td>FINANCE</td>\n",
       "      <td>I am Rich!</td>\n",
       "      <td>399.99</td>\n",
       "    </tr>\n",
       "    <tr>\n",
       "      <th>4403</th>\n",
       "      <td>FINANCE</td>\n",
       "      <td>I am rich(premium)</td>\n",
       "      <td>399.99</td>\n",
       "    </tr>\n",
       "    <tr>\n",
       "      <th>4406</th>\n",
       "      <td>FAMILY</td>\n",
       "      <td>I Am Rich Pro</td>\n",
       "      <td>399.99</td>\n",
       "    </tr>\n",
       "    <tr>\n",
       "      <th>4408</th>\n",
       "      <td>FINANCE</td>\n",
       "      <td>I am rich (Most expensive app)</td>\n",
       "      <td>399.99</td>\n",
       "    </tr>\n",
       "    <tr>\n",
       "      <th>4410</th>\n",
       "      <td>FAMILY</td>\n",
       "      <td>I Am Rich</td>\n",
       "      <td>389.99</td>\n",
       "    </tr>\n",
       "    <tr>\n",
       "      <th>4413</th>\n",
       "      <td>FINANCE</td>\n",
       "      <td>I am Rich</td>\n",
       "      <td>399.99</td>\n",
       "    </tr>\n",
       "    <tr>\n",
       "      <th>4417</th>\n",
       "      <td>FINANCE</td>\n",
       "      <td>I AM RICH PRO PLUS</td>\n",
       "      <td>399.99</td>\n",
       "    </tr>\n",
       "    <tr>\n",
       "      <th>8763</th>\n",
       "      <td>FINANCE</td>\n",
       "      <td>Eu Sou Rico</td>\n",
       "      <td>394.99</td>\n",
       "    </tr>\n",
       "    <tr>\n",
       "      <th>8780</th>\n",
       "      <td>LIFESTYLE</td>\n",
       "      <td>I'm Rich/Eu sou Rico/أنا غني/我很有錢</td>\n",
       "      <td>399.99</td>\n",
       "    </tr>\n",
       "  </tbody>\n",
       "</table>\n",
       "</div>"
      ],
      "text/plain": [
       "       Category                                App   Price\n",
       "3327     FAMILY             most expensive app (H)  399.99\n",
       "3465  LIFESTYLE                         💎 I'm rich  399.99\n",
       "3469  LIFESTYLE           I'm Rich - Trump Edition  400.00\n",
       "4396  LIFESTYLE                          I am rich  399.99\n",
       "4398     FAMILY                     I am Rich Plus  399.99\n",
       "4399  LIFESTYLE                      I am rich VIP  299.99\n",
       "4400    FINANCE                  I Am Rich Premium  399.99\n",
       "4401  LIFESTYLE                I am extremely Rich  379.99\n",
       "4402    FINANCE                         I am Rich!  399.99\n",
       "4403    FINANCE                 I am rich(premium)  399.99\n",
       "4406     FAMILY                      I Am Rich Pro  399.99\n",
       "4408    FINANCE     I am rich (Most expensive app)  399.99\n",
       "4410     FAMILY                          I Am Rich  389.99\n",
       "4413    FINANCE                          I am Rich  399.99\n",
       "4417    FINANCE                 I AM RICH PRO PLUS  399.99\n",
       "8763    FINANCE                        Eu Sou Rico  394.99\n",
       "8780  LIFESTYLE  I'm Rich/Eu sou Rico/أنا غني/我很有錢  399.99"
      ]
     },
     "execution_count": 36,
     "metadata": {},
     "output_type": "execute_result"
    },
    {
     "data": {
      "image/png": "[encoded data removed]",
      "text/plain": [
       "<Figure size 1500x800 with 1 Axes>"
      ]
     },
     "metadata": {},
     "output_type": "display_data"
    }
   ],
   "source": [
    "import matplotlib.pyplot as plt\n",
    "fig, ax = plt.subplots()\n",
    "fig.set_size_inches(15, 8)\n",
    "\n",
    "# Select a few popular app categories\n",
    "popular_app_cats = df_apps[df_apps.Category.isin(['GAME', 'FAMILY', 'PHOTOGRAPHY',\n",
    "                                            'MEDICAL', 'TOOLS', 'FINANCE',\n",
    "                                            'LIFESTYLE','BUSINESS'])]\n",
    "\n",
    "# Examine the price trend by plotting Price vs Category\n",
    "ax = sns.stripplot(x = popular_app_cats['Price'], y = popular_app_cats['Category'], jitter=True, linewidth=1)\n",
    "ax.set_title('App pricing trend across categories')\n",
    "\n",
    "# Apps whose Price is greater than 200\n",
    "apps_above_200 = popular_app_cats[popular_app_cats['Price']>200]\n",
    "apps_above_200[['Category', 'App', 'Price']]"
   ]
  },
  {
   "cell_type": "markdown",
   "id": "11746985",
   "metadata": {},
   "source": [
    "## 8. Filter out \"junk\" apps\n",
    "<p>It looks like a bunch of the really expensive apps are \"junk\" apps. That is, apps that don't really have a purpose. Some app developer may create an app called <em>I Am Rich Premium</em> or <em>most expensive app (H)</em> just for a joke or to test their app development skills. Some developers even do this with malicious intent and try to make money by hoping people accidentally click purchase on their app in the store.</p>\n",
    "<p>Let's filter out these junk apps and re-do our visualization.</p>"
   ]
  },
  {
   "cell_type": "code",
   "execution_count": 37,
   "id": "6f3e2114",
   "metadata": {},
   "outputs": [
    {
     "data": {
      "text/plain": [
       "Text(0.5, 1.0, 'App pricing trend across categories after filtering for junk apps')"
      ]
     },
     "execution_count": 37,
     "metadata": {},
     "output_type": "execute_result"
    },
    {
     "data": {
      "image/png": "[encoded data removed]",
      "text/plain": [
       "<Figure size 1500x800 with 1 Axes>"
      ]
     },
     "metadata": {},
     "output_type": "display_data"
    }
   ],
   "source": [
    "# Select apps priced below $100\n",
    "apps_under_100 = popular_app_cats[popular_app_cats['Price']<100]\n",
    "\n",
    "fig, ax = plt.subplots()\n",
    "fig.set_size_inches(15, 8)\n",
    "\n",
    "# Examine price vs category with the authentic apps (apps_under_100)\n",
    "ax = sns.stripplot(x = apps_under_100 ['Price'], y = apps_under_100 ['Category'], data = apps_under_100, jitter = True, linewidth = 1)\n",
    "ax.set_title('App pricing trend across categories after filtering for junk apps')"
   ]
  },
  {
   "cell_type": "markdown",
   "id": "294d1388",
   "metadata": {},
   "source": [
    "## 9. Popularity of paid apps vs free apps\n",
    "<p>For apps in the Play Store today, there are five types of pricing strategies: free, freemium, paid, paymium, and subscription. Let's focus on free and paid apps only. Some characteristics of free apps are:</p>\n",
    "<ul>\n",
    "<li>Free to download.</li>\n",
    "<li>Main source of income often comes from advertisements.</li>\n",
    "<li>Often created by companies that have other products and the app serves as an extension of those products.</li>\n",
    "<li>Can serve as a tool for customer retention, communication, and customer service.</li>\n",
    "</ul>\n",
    "<p>Some characteristics of paid apps are:</p>\n",
    "<ul>\n",
    "<li>Users are asked to pay once for the app to download and use it.</li>\n",
    "<li>The user can't really get a feel for the app before buying it.</li>\n",
    "</ul>\n",
    "<p>Are paid apps installed as much as free apps? It turns out that paid apps have a relatively lower number of installs than free apps, though the difference is not as stark as I would have expected!</p>"
   ]
  },
  {
   "cell_type": "code",
   "execution_count": null,
   "id": "ab55c08f",
   "metadata": {},
   "outputs": [
    {
     "ename": "NameError",
     "evalue": "name 'go' is not defined",
     "output_type": "error",
     "traceback": [
      "\u001b[1;31m---------------------------------------------------------------------------\u001b[0m",
      "\u001b[1;31mNameError\u001b[0m                                 Traceback (most recent call last)",
      "Input \u001b[1;32mIn [29]\u001b[0m, in \u001b[0;36m<cell line: 1>\u001b[1;34m()\u001b[0m\n\u001b[1;32m----> 1\u001b[0m trace0 \u001b[38;5;241m=\u001b[39m \u001b[43mgo\u001b[49m\u001b[38;5;241m.\u001b[39mBox(\n\u001b[0;32m      2\u001b[0m     \u001b[38;5;66;03m# Data for paid apps\u001b[39;00m\n\u001b[0;32m      3\u001b[0m     y \u001b[38;5;241m=\u001b[39m apps[df_apps[\u001b[38;5;124m'\u001b[39m\u001b[38;5;124mType\u001b[39m\u001b[38;5;124m'\u001b[39m] \u001b[38;5;241m==\u001b[39m \u001b[38;5;124m'\u001b[39m\u001b[38;5;124mPaid\u001b[39m\u001b[38;5;124m'\u001b[39m][\u001b[38;5;124m'\u001b[39m\u001b[38;5;124mInstalls\u001b[39m\u001b[38;5;124m'\u001b[39m],\n\u001b[0;32m      4\u001b[0m     name \u001b[38;5;241m=\u001b[39m \u001b[38;5;124m'\u001b[39m\u001b[38;5;124mPaid\u001b[39m\u001b[38;5;124m'\u001b[39m\n\u001b[0;32m      5\u001b[0m )\n\u001b[0;32m      7\u001b[0m trace1 \u001b[38;5;241m=\u001b[39m go\u001b[38;5;241m.\u001b[39mBox(\n\u001b[0;32m      8\u001b[0m     \u001b[38;5;66;03m# Data for free apps\u001b[39;00m\n\u001b[0;32m      9\u001b[0m     y \u001b[38;5;241m=\u001b[39m apps[df_apps[\u001b[38;5;124m'\u001b[39m\u001b[38;5;124mType\u001b[39m\u001b[38;5;124m'\u001b[39m] \u001b[38;5;241m==\u001b[39m \u001b[38;5;124m'\u001b[39m\u001b[38;5;124mFree\u001b[39m\u001b[38;5;124m'\u001b[39m][\u001b[38;5;124m'\u001b[39m\u001b[38;5;124mInstalls\u001b[39m\u001b[38;5;124m'\u001b[39m],\n\u001b[0;32m     10\u001b[0m     name \u001b[38;5;241m=\u001b[39m \u001b[38;5;124m'\u001b[39m\u001b[38;5;124mFree\u001b[39m\u001b[38;5;124m'\u001b[39m\n\u001b[0;32m     11\u001b[0m )\n\u001b[0;32m     13\u001b[0m layout \u001b[38;5;241m=\u001b[39m go\u001b[38;5;241m.\u001b[39mLayout(\n\u001b[0;32m     14\u001b[0m     title \u001b[38;5;241m=\u001b[39m \u001b[38;5;124m\"\u001b[39m\u001b[38;5;124mNumber of downloads of paid apps vs. free apps\u001b[39m\u001b[38;5;124m\"\u001b[39m,\n\u001b[0;32m     15\u001b[0m     yaxis \u001b[38;5;241m=\u001b[39m \u001b[38;5;28mdict\u001b[39m(title \u001b[38;5;241m=\u001b[39m \u001b[38;5;124m\"\u001b[39m\u001b[38;5;124mLog number of downloads\u001b[39m\u001b[38;5;124m\"\u001b[39m,\n\u001b[0;32m     16\u001b[0m                 \u001b[38;5;28mtype\u001b[39m \u001b[38;5;241m=\u001b[39m \u001b[38;5;124m'\u001b[39m\u001b[38;5;124mlog\u001b[39m\u001b[38;5;124m'\u001b[39m,\n\u001b[0;32m     17\u001b[0m                 autorange \u001b[38;5;241m=\u001b[39m \u001b[38;5;28;01mTrue\u001b[39;00m)\n\u001b[0;32m     18\u001b[0m )\n",
      "\u001b[1;31mNameError\u001b[0m: name 'go' is not defined"
     ]
    }
   ],
   "source": [
    "trace0 = go.Box(\n",
    "    # Data for paid apps\n",
    "    y = apps[df_apps['Type'] == 'Paid']['Installs'],\n",
    "    name = 'Paid'\n",
    ")\n",
    "\n",
    "trace1 = go.Box(\n",
    "    # Data for free apps\n",
    "    y = apps[df_apps['Type'] == 'Free']['Installs'],\n",
    "    name = 'Free'\n",
    ")\n",
    "\n",
    "layout = go.Layout(\n",
    "    title = \"Number of downloads of paid apps vs. free apps\",\n",
    "    yaxis = dict(title = \"Log number of downloads\",\n",
    "                type = 'log',\n",
    "                autorange = True)\n",
    ")\n",
    "\n",
    "# Add trace0 and trace1 to a list for plotting\n",
    "data = [trace0, trace1]\n",
    "plotly.offline.iplot({'data': data, 'layout': layout})"
   ]
  },
  {
   "cell_type": "markdown",
   "id": "b1eba4d7",
   "metadata": {},
   "source": [
    "## 10. Sentiment analysis of user reviews\n",
    "<p>Mining user review data to determine how people feel about your product, brand, or service can be done using a technique called sentiment analysis. User reviews for apps can be analyzed to identify if the mood is positive, negative or neutral about that app. For example, positive words in an app review might include words such as 'amazing', 'friendly', 'good', 'great', and 'love'. Negative words might be words like 'malware', 'hate', 'problem', 'refund', and 'incompetent'.</p>\n",
    "<p>By plotting sentiment polarity scores of user reviews for paid and free apps, we observe that free apps receive a lot of harsh comments, as indicated by the outliers on the negative y-axis. Reviews for paid apps appear never to be extremely negative. This may indicate something about app quality, i.e., paid apps being of higher quality than free apps on average. The median polarity score for paid apps is a little higher than free apps, thereby syncing with our previous observation.</p>\n",
    "<p>In this notebook, we analyzed over ten thousand apps from the Google Play Store. We can use our findings to inform our decisions should we ever wish to create an app ourselves.</p>"
   ]
  },
  {
   "cell_type": "code",
   "execution_count": null,
   "id": "7b4c19e7",
   "metadata": {},
   "outputs": [
    {
     "ename": "NameError",
     "evalue": "name 'apps' is not defined",
     "output_type": "error",
     "traceback": [
      "\u001b[1;31m---------------------------------------------------------------------------\u001b[0m",
      "\u001b[1;31mNameError\u001b[0m                                 Traceback (most recent call last)",
      "Input \u001b[1;32mIn [32]\u001b[0m, in \u001b[0;36m<cell line: 5>\u001b[1;34m()\u001b[0m\n\u001b[0;32m      1\u001b[0m \u001b[38;5;66;03m# Load user_reviews.csv\u001b[39;00m\n\u001b[0;32m      2\u001b[0m \u001b[38;5;66;03m#reviews_df = pd.read_csv('datasets/user_reviews.csv')\u001b[39;00m\n\u001b[0;32m      3\u001b[0m \n\u001b[0;32m      4\u001b[0m \u001b[38;5;66;03m# Join the two dataframes\u001b[39;00m\n\u001b[1;32m----> 5\u001b[0m merged_df \u001b[38;5;241m=\u001b[39m pd\u001b[38;5;241m.\u001b[39mmerge(\u001b[43mapps\u001b[49m, df_review, on \u001b[38;5;241m=\u001b[39m \u001b[38;5;124m\"\u001b[39m\u001b[38;5;124mApp\u001b[39m\u001b[38;5;124m\"\u001b[39m)\n\u001b[0;32m      7\u001b[0m \u001b[38;5;66;03m# Drop NA values from Sentiment and Review columns\u001b[39;00m\n\u001b[0;32m      8\u001b[0m merged_df \u001b[38;5;241m=\u001b[39m merged_df\u001b[38;5;241m.\u001b[39mdropna(subset \u001b[38;5;241m=\u001b[39m [\u001b[38;5;124m'\u001b[39m\u001b[38;5;124mSentiment\u001b[39m\u001b[38;5;124m'\u001b[39m, \u001b[38;5;124m'\u001b[39m\u001b[38;5;124mReview\u001b[39m\u001b[38;5;124m'\u001b[39m])\n",
      "\u001b[1;31mNameError\u001b[0m: name 'apps' is not defined"
     ]
    }
   ],
   "source": [
    "# Load user_reviews.csv\n",
    "#reviews_df = pd.read_csv('datasets/user_reviews.csv')\n",
    "\n",
    "# Join the two dataframes\n",
    "merged_df = pd.merge(apps, df_review, on = \"App\")\n",
    "\n",
    "# Drop NA values from Sentiment and Review columns\n",
    "merged_df = merged_df.dropna(subset = ['Sentiment', 'Review'])\n",
    "\n",
    "sns.set_style('ticks')\n",
    "fig, ax = plt.subplots()\n",
    "fig.set_size_inches(11, 8)\n",
    "\n",
    "# User review sentiment polarity for paid vs. free apps\n",
    "ax = sns.boxplot(x = 'Type', y = 'Sentiment_Polarity', data = merged_df)\n",
    "ax.set_title('Sentiment Polarity Distribution')"
   ]
  },
  {
   "cell_type": "markdown",
   "id": "ee86f2ef",
   "metadata": {},
   "source": [
    "df_apps.describe(include='all') # information statistic "
   ]
  },
  {
   "cell_type": "code",
   "execution_count": null,
   "id": "9f950950",
   "metadata": {},
   "outputs": [
    {
     "name": "stdout",
     "output_type": "stream",
     "text": [
      "<class 'pandas.core.frame.DataFrame'>\n",
      "RangeIndex: 10841 entries, 0 to 10840\n",
      "Data columns (total 13 columns):\n",
      " #   Column          Non-Null Count  Dtype  \n",
      "---  ------          --------------  -----  \n",
      " 0   App             10841 non-null  object \n",
      " 1   Category        10841 non-null  object \n",
      " 2   Rating          9367 non-null   float64\n",
      " 3   Reviews         10841 non-null  object \n",
      " 4   Size            10841 non-null  object \n",
      " 5   Installs        10841 non-null  object \n",
      " 6   Type            10840 non-null  object \n",
      " 7   Price           10841 non-null  object \n",
      " 8   Content Rating  10840 non-null  object \n",
      " 9   Genres          10841 non-null  object \n",
      " 10  Last Updated    10841 non-null  object \n",
      " 11  Current Ver     10833 non-null  object \n",
      " 12  Android Ver     10838 non-null  object \n",
      "dtypes: float64(1), object(12)\n",
      "memory usage: 1.1+ MB\n"
     ]
    }
   ],
   "source": [
    "df_apps.info()"
   ]
  },
  {
   "cell_type": "markdown",
   "id": "e12a00ce",
   "metadata": {},
   "source": [
    "Les colonnes sont:\n",
    "\n",
    "* App :  Nom d'appication \n",
    "\n",
    "* catagory  : Catégorie d'une  applications  \n",
    "\n",
    "* Rating  : Passenger ticket class : Class 1, 2 and 3.\n",
    "\n",
    "* Review  : Name of the passenger\n",
    "\n",
    "* Size : Sex of the passenger male/female\n",
    "* Installs : \n",
    "\n",
    "* Age : Age in years\n",
    "\n",
    "* type :\t# of siblings / spouses aboard the Titanic\t\n",
    "\n",
    "* Price  :\tTicket number\t\n",
    "\n",
    "* Content Rating  :\tPassenger fare\t\n",
    "\n",
    "* Genres  : Cabin number\n",
    "\n",
    "* Last Updated : Embarkation port ( C : Cherbourg; Q Queenstown; S Southampton)\n",
    "* Current Ver : \n",
    "* Android Ver   : "
   ]
  },
  {
   "cell_type": "markdown",
   "id": "01a3ff25",
   "metadata": {},
   "source": [
    "## Question / Objectif\n",
    "<strong>Pourquoi certains applications  ont  meilleurs  ranking et l'autre ont un mauvaise ranking<strong>"
   ]
  },
  {
   "cell_type": "markdown",
   "id": "ea355bba",
   "metadata": {},
   "source": [
    "On veut trouver les colonnes qui expliquent le 0/1 dans Survived et construire un modèle qui permettrait d’expliquer au mieux Survived étant donné nos informations.\n",
    "\n",
    "On va commencer par observer nos données, en répondant à des questions descriptives:\n",
    "1. Quel sexe a le plus de chances de survie ?\n",
    "2. Est-ce que les enfants ont eu plus de chances de survie ?\n",
    "3. Calculer la proportion de survie selon le port d'embarquement."
   ]
  },
  {
   "cell_type": "markdown",
   "id": "241ee1d0",
   "metadata": {},
   "source": [
    "### Etape 1: Supprimer les NAN de la colonnes \"ranking\"\n",
    "La colonne \"ranking\" a des valeurs manquantes (891 disponibles/1309). Comme la plupart des passagers et passagères sont mort, on peut supposer que Survived =0.\n",
    "\n",
    "Attention ceci est un choix. Toujours garder en tête qu’il modifie vos résultats et peut donc modifier vos interpétations ! Ici, c’est vraiment à la marge"
   ]
  },
  {
   "cell_type": "code",
   "execution_count": null,
   "id": "6ec0ffec",
   "metadata": {},
   "outputs": [],
   "source": [
    "df_apps[\"Rating\"] =df_apps[\"Rating\"].fillna(df_apps[\"Rating\"].mean()) # remplacer le NAN par moyenne \n",
    "#df_apps.info()"
   ]
  },
  {
   "cell_type": "markdown",
   "id": "8ac8b2bb",
   "metadata": {
    "slideshow": {
     "slide_type": "slide"
    }
   },
   "source": [
    "<h1 ><p class=\"fragment fade-up\" data-fragment-index=\"1\"><span class=\"presentation_title\">11 Conclusion </span></p></h1>\n",
    " </div>  \n",
    "    <div class='column' id='frame'>\n",
    "        <br><br><br>\n",
    "        <center><img id=\"undraw_col_img\" src=\"images/undraw_lightbulb.svg\"></center>\n",
    "    </div>\n",
    "       \n"
   ]
  },
  {
   "cell_type": "markdown",
   "id": "a9813f53",
   "metadata": {
    "slideshow": {
     "slide_type": "subslide"
    }
   },
   "source": [
    "<!-- <h2 ><p class=\"fragment fade-up\" data-fragment-index=\"1\">\n",
    "<span class=\"presentation_title\">5.1 Conclusion </span></p></h2> -->\n",
    "<p class=\"fragment fade-in-then-out\" data-fragment-index=\"2\" align=\"center\" >What made the challenge too hard was the presence of a lot of  <span class=\"bkg_contrastR\">missing data</span>\n",
    "<p class=\"fragment fade-in-then-out\" data-fragment-index=\"3\" align=\"center\" >At first we had to add <span class=\"bkg_contrastR\"> 8 new features</span>to compensate for the missing data <p class=\"fragment fade-in-then-out\" data-fragment-index=\"4\" >We got a result with the <span class=\"bkg_contrastB\">Decision tree</span> algorithm and <span class=\"bkg_contrastB\">Xgboost</span> that partially classify <span class=\"bkg_contrastR\">sepsis. </span></p>\n",
    "<p class=\"fragment fade-right\" data-fragment-index=\"5\" align=\"center\" >The quest to find the best model led us to consider   <span class=\"bkg_contrastR\">all the dataset</span> and eliminate the<span class=\"bkg_contrastR\">unbalanced</span> data.</p>\n",
    "<p class=\"fragment fade-left\" data-fragment-index=\"6\" align=\"center\" >The choice for the <span class=\"bkg_contrastR\">6 models</span> to compare was already inspired by the success of these algorithms in similar problems.</p><p class=\"fragment fade-left\" data-fragment-index=\"7\" align=\"center\" >The result given by the MLP algorithm seems to confirm that it is a good choice for the prediction of sepsis through a <span class=\"bkg_contrastR\">time independent approach</span>. </p>"
   ]
  },
  {
   "cell_type": "markdown",
   "id": "8c2a26a9",
   "metadata": {
    "slideshow": {
     "slide_type": "slide"
    }
   },
   "source": [
    "<div class=\"uu_title_container\">\n",
    "    <div class='column'>\n",
    "        <br><br><br>\n",
    "        <h2><span class=\"presentation_title\">Thank You</span></h2>\n",
    "        <br><br>\n",
    "        <p><b>Contact:</b><br><br>Mail:&emsp;&emsp;&nbsp;<a href='mailto:abdallah.khemais@gmail.com'>chrifa.bahrouni123@gmail.com</a><br><br>URL:&emsp;&emsp;<a href='https://github.com/nevermind78/Capstone'>https://github.com/nevermind78/Capstone</a></p>\n",
    "    </div>  \n",
    "    <div class='column' id='frame'>\n",
    "        <br><br><br>\n",
    "        <figure><center><img id=\"undraw_col_img\" src=\"images/undraw_contact_us.svg\"></center></figure>\n",
    "    </div>\n",
    "</div>\n"
   ]
  },
  {
   "cell_type": "markdown",
   "id": "a74f542a",
   "metadata": {
    "slideshow": {
     "slide_type": "slide"
    }
   },
   "source": [
    "## References\n",
    "\n",
    "<div class=\"footer\">These slides were made using <a href=\"https://github.com/damianavila/RISE\"><code>RISE</code></a>, <a href=\"https://fonts.google.com/\">Google Fonts</a> and <a href=\"https://undraw.co\">Undraw Illustrations</a></div>"
   ]
  },
  {
   "cell_type": "code",
   "execution_count": 35,
   "id": "50e2bfd7",
   "metadata": {},
   "outputs": [
    {
     "name": "stderr",
     "output_type": "stream",
     "text": [
      "C:\\Users\\hp\\AppData\\Local\\Temp\\ipykernel_2312\\3444329505.py:4: FutureWarning: The default value of numeric_only in DataFrame.corr is deprecated. In a future version, it will default to False. Select only valid columns or specify the value of numeric_only to silence this warning.\n",
      "  sns.heatmap(df_review.corr(), fmt='0.2f', annot=True, square=True); # modele de prédiction\n"
     ]
    },
    {
     "data": {
      "image/png": "[encoded data removed]",
      "text/plain": [
       "<Figure size 640x480 with 2 Axes>"
      ]
     },
     "metadata": {},
     "output_type": "display_data"
    }
   ],
   "source": [
    "from cmath import sin\n",
    "import seaborn as sns\n",
    "#sin.set(rc={'figure.figsize'}=(5,8))\n",
    "sns.heatmap(df_review.corr(), fmt='0.2f', annot=True, square=True); # modele de prédiction \n",
    "# http://www.p30download.com/ "
   ]
  },
  {
   "cell_type": "code",
   "execution_count": null,
   "id": "e1760a33",
   "metadata": {},
   "outputs": [],
   "source": []
  }
 ],
 "metadata": {
  "celltoolbar": "Diaporama",
  "colab": {
   "name": "Welcome to DataCamp Workspaces.ipynb",
   "provenance": []
  },
  "kernelspec": {
   "display_name": "Python 3 (ipykernel)",
   "language": "python",
   "name": "python3"
  },
  "language_info": {
   "codemirror_mode": {
    "name": "ipython",
    "version": 3
   },
   "file_extension": ".py",
   "mimetype": "text/x-python",
   "name": "python",
   "nbconvert_exporter": "python",
   "pygments_lexer": "ipython3",
   "version": "3.9.12"
  },
  "varInspector": {
   "cols": {
    "lenName": 16,
    "lenType": 16,
    "lenVar": 40
   },
   "kernels_config": {
    "python": {
     "delete_cmd_postfix": "",
     "delete_cmd_prefix": "del ",
     "library": "var_list.py",
     "varRefreshCmd": "print(var_dic_list())"
    },
    "r": {
     "delete_cmd_postfix": ") ",
     "delete_cmd_prefix": "rm(",
     "library": "var_list.r",
     "varRefreshCmd": "cat(var_dic_list()) "
    }
   },
   "types_to_exclude": [
    "module",
    "function",
    "builtin_function_or_method",
    "instance",
    "_Feature"
   ],
   "window_display": false
  },
  "vscode": {
   "interpreter": {
    "hash": "79d71d161e7943240a345005223b4b57f09b9732a24e4917a9c0467b3aef16ea"
   }
  }
 },
 "nbformat": 4,
 "nbformat_minor": 5
}
